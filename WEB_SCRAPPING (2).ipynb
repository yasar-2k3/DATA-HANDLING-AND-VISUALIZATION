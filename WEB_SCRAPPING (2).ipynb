{
  "nbformat": 4,
  "nbformat_minor": 0,
  "metadata": {
    "colab": {
      "provenance": []
    },
    "kernelspec": {
      "name": "python3",
      "display_name": "Python 3"
    },
    "language_info": {
      "name": "python"
    }
  },
  "cells": [
    {
      "cell_type": "code",
      "execution_count": 1,
      "metadata": {
        "id": "3ByTHZ3J91lb"
      },
      "outputs": [],
      "source": [
        "import requests\n",
        "from bs4 import BeautifulSoup"
      ]
    },
    {
      "cell_type": "code",
      "source": [
        "url = 'https://en.wikipedia.org/wiki/List_of_railway_junction_stations_in_India'\n",
        "response = requests.get(url)"
      ],
      "metadata": {
        "id": "51gKF3Yl9_Sl"
      },
      "execution_count": 2,
      "outputs": []
    },
    {
      "cell_type": "code",
      "source": [
        "soup = BeautifulSoup(response.text, 'html.parser')"
      ],
      "metadata": {
        "id": "oT-XFuZ--R3u"
      },
      "execution_count": 3,
      "outputs": []
    },
    {
      "cell_type": "code",
      "source": [
        "table = soup.find('table', class_='wikitable')"
      ],
      "metadata": {
        "id": "pOTV8oJc-UGO"
      },
      "execution_count": 4,
      "outputs": []
    },
    {
      "cell_type": "code",
      "source": [
        "station_names = []\n",
        "passenger_counts = []\n",
        "\n",
        "for row in table.find_all('tr')[1:]:\n",
        "    station_name = row.find_all('td')[1].text.strip()\n",
        "    station_names.append(station_name)\n",
        "\n",
        "    passenger_count = row.find_all('td')[3].text.strip()\n",
        "    passenger_counts.append(passenger_count)\n",
        "\n",
        "print(\"Top 10 Busiest Station in India Till 2023:\")\n",
        "for i in range(10):\n",
        "    print(f\"{i+1}. {station_names[i]} - {passenger_counts[i]}\")\n"
      ],
      "metadata": {
        "colab": {
          "base_uri": "https://localhost:8080/"
        },
        "id": "qySf6RIQ-XAN",
        "outputId": "c3454fc5-092e-4cf9-d25e-8f759bfcf7f5"
      },
      "execution_count": 6,
      "outputs": [
        {
          "output_type": "stream",
          "name": "stdout",
          "text": [
            "Top 10 Busiest Station in India Till 2023:\n",
            "1. 3 - Gujarat\n",
            "2. 3 - Punjab\n",
            "3. 3 - Uttar Pradesh\n",
            "4. 4 - West Bengal\n",
            "5. 4 - Uttar Pradesh\n",
            "6. 3 - West Bengal\n",
            "7. 4 - Rajasthan\n",
            "8. 3 - Uttar Pradesh\n",
            "9. 4 - Maharashtra\n",
            "10. 5 - Uttar Pradesh\n"
          ]
        }
      ]
    }
  ]
}